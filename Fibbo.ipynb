{
  "nbformat": 4,
  "nbformat_minor": 0,
  "metadata": {
    "colab": {
      "name": "Fibbo.ipynb",
      "provenance": [],
      "authorship_tag": "ABX9TyPc275zFl2jpiRkyfXDFVv0",
      "include_colab_link": true
    },
    "kernelspec": {
      "name": "python3",
      "display_name": "Python 3"
    }
  },
  "cells": [
    {
      "cell_type": "markdown",
      "metadata": {
        "id": "view-in-github",
        "colab_type": "text"
      },
      "source": [
        "<a href=\"https://colab.research.google.com/github/Maryshajina/Mycaptain/blob/master/Fibbo.ipynb\" target=\"_parent\"><img src=\"https://colab.research.google.com/assets/colab-badge.svg\" alt=\"Open In Colab\"/></a>"
      ]
    },
    {
      "cell_type": "code",
      "metadata": {
        "id": "dnhS1jXD-TAX",
        "colab_type": "code",
        "colab": {}
      },
      "source": [
        "n = int(input(\"enter how many numbers you want:\"))\n",
        "b = 0\n",
        "c = 1\n",
        "for i in range(n):\n",
        "      print(b)\n",
        "      a = b\n",
        "      b = c\n",
        "      c = a + c"
      ],
      "execution_count": 0,
      "outputs": []
    }
  ]
}
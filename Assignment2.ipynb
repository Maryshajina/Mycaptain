{
  "nbformat": 4,
  "nbformat_minor": 0,
  "metadata": {
    "colab": {
      "name": "Assignment2.ipynb",
      "provenance": [],
      "authorship_tag": "ABX9TyMICqo/Q6z5vi33CNeJHXE8",
      "include_colab_link": true
    },
    "kernelspec": {
      "name": "python3",
      "display_name": "Python 3"
    }
  },
  "cells": [
    {
      "cell_type": "markdown",
      "metadata": {
        "id": "view-in-github",
        "colab_type": "text"
      },
      "source": [
        "<a href=\"https://colab.research.google.com/github/Maryshajina/Mycaptain/blob/master/Assignment2.ipynb\" target=\"_parent\"><img src=\"https://colab.research.google.com/assets/colab-badge.svg\" alt=\"Open In Colab\"/></a>"
      ]
    },
    {
      "cell_type": "code",
      "metadata": {
        "id": "YzvLrX6Ab4Ba",
        "colab_type": "code",
        "colab": {}
      },
      "source": [
        "list1 = [12, -7, 5, 64, -14]\n",
        "for num in list1:\n",
        "       if num >=0:\n",
        "             print(num)"
      ],
      "execution_count": 0,
      "outputs": []
    }
  ]
}
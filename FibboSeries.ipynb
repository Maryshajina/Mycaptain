{
  "nbformat": 4,
  "nbformat_minor": 0,
  "metadata": {
    "colab": {
      "name": "FibboSeries.ipynb",
      "provenance": [],
      "authorship_tag": "ABX9TyO4P3NhYIyzP7Q7RMcMKV0U",
      "include_colab_link": true
    },
    "kernelspec": {
      "name": "python3",
      "display_name": "Python 3"
    }
  },
  "cells": [
    {
      "cell_type": "markdown",
      "metadata": {
        "id": "view-in-github",
        "colab_type": "text"
      },
      "source": [
        "<a href=\"https://colab.research.google.com/github/Maryshajina/Mycaptain/blob/master/FibboSeries.ipynb\" target=\"_parent\"><img src=\"https://colab.research.google.com/assets/colab-badge.svg\" alt=\"Open In Colab\"/></a>"
      ]
    },
    {
      "cell_type": "code",
      "metadata": {
        "id": "C-SIHK0ggLS0",
        "colab_type": "code",
        "colab": {}
      },
      "source": [
        "nterms = int(input(\"enter how many numbers:\"))\n",
        "a,b = 0,1\n",
        "count = 0\n",
        "if nterms<=0:\n",
        "     print(\"please enter a positive number:\")\n",
        "elif nterms==1:\n",
        "     print(\"fibonnaci series\",nterms,\":\")\n",
        "     print(a)\n",
        "else:\n",
        "     print(\"fibonacci series:\")\n",
        "     while count<=nterms:\n",
        "            print(a)\n",
        "            x = a + b\n",
        "            a = b\n",
        "            b = x\n",
        "            count +=1"
      ],
      "execution_count": 0,
      "outputs": []
    }
  ]
}
{
  "nbformat": 4,
  "nbformat_minor": 0,
  "metadata": {
    "colab": {
      "name": "Assignment3.ipynb",
      "provenance": [],
      "collapsed_sections": [],
      "authorship_tag": "ABX9TyNebqZ7gmmBzdCyW29wz/uJ",
      "include_colab_link": true
    },
    "kernelspec": {
      "name": "python3",
      "display_name": "Python 3"
    }
  },
  "cells": [
    {
      "cell_type": "markdown",
      "metadata": {
        "id": "view-in-github",
        "colab_type": "text"
      },
      "source": [
        "<a href=\"https://colab.research.google.com/github/Maryshajina/Mycaptain/blob/master/Assignment3.ipynb\" target=\"_parent\"><img src=\"https://colab.research.google.com/assets/colab-badge.svg\" alt=\"Open In Colab\"/></a>"
      ]
    },
    {
      "cell_type": "code",
      "metadata": {
        "id": "-TCZW5O1n_E3",
        "colab_type": "code",
        "colab": {}
      },
      "source": [
        "names = [\"Mike\", \"Ruth\", \"Harry\", \"Terry\"]\n",
        "names.append(\"Leah\")\n",
        "print (names)"
      ],
      "execution_count": 0,
      "outputs": []
    },
    {
      "cell_type": "code",
      "metadata": {
        "id": "kXQ5Q9HupIGz",
        "colab_type": "code",
        "colab": {}
      },
      "source": [
        "tup1 = (\"physics\", \"chemistry\", \"math\", \"biology\")\n",
        "tup2 = (\"scientist\", \"chemist\", \"mathematician\", \"botanist\")\n",
        "print(tup1[0])"
      ],
      "execution_count": 0,
      "outputs": []
    },
    {
      "cell_type": "code",
      "metadata": {
        "id": "BcT7sojqz0tF",
        "colab_type": "code",
        "colab": {}
      },
      "source": [
        "myDict = {\n",
        "       \"lily\" : \" white\",\n",
        "       \"lotus\" : \"pink\",\n",
        "       \"rose\" : \"red\",\n",
        "       \"sunflower\" : \"yellow\"\n",
        "}\n",
        "myDict.pop (\"rose\"):\n",
        "      print (\" my Dict\")"
      ],
      "execution_count": 0,
      "outputs": []
    }
  ]
}
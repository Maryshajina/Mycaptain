{
  "nbformat": 4,
  "nbformat_minor": 0,
  "metadata": {
    "colab": {
      "name": "Dataset.ipynb",
      "provenance": [],
      "authorship_tag": "ABX9TyMh14aoKvIji1cZ+j5nyjAE",
      "include_colab_link": true
    },
    "kernelspec": {
      "name": "python3",
      "display_name": "Python 3"
    }
  },
  "cells": [
    {
      "cell_type": "markdown",
      "metadata": {
        "id": "view-in-github",
        "colab_type": "text"
      },
      "source": [
        "<a href=\"https://colab.research.google.com/github/Maryshajina/Mycaptain/blob/master/Dataset.ipynb\" target=\"_parent\"><img src=\"https://colab.research.google.com/assets/colab-badge.svg\" alt=\"Open In Colab\"/></a>"
      ]
    },
    {
      "cell_type": "code",
      "metadata": {
        "id": "Um_5Jv5Tpe6l",
        "colab_type": "code",
        "colab": {}
      },
      "source": [
        "import sys\n",
        "print('Python: {}' .format(sys.version))\n",
        "import scipy\n",
        "print( 'Scipy: {}' .format(scipy._version_))\n",
        "import numpy \n",
        "print( 'Numpy: {}' .format(numpy._version_))\n",
        "import matplotlib\n",
        "print('Matplotlib: {}' .format(matplotlib._version_))\n",
        "import pandas\n",
        "print('Pandas: {}' .format(pandas._version_))\n",
        "import sklearn\n",
        "print('sklearn:{}' .format(sklearn._version_))"
      ],
      "execution_count": null,
      "outputs": []
    },
    {
      "cell_type": "code",
      "metadata": {
        "id": "7CDYXabd4dd5",
        "colab_type": "code",
        "colab": {}
      },
      "source": [
        "import pandas\n",
        "from pandas import read_csv\n",
        "from pandas.plotting import scatter_matrix\n",
        "from matplotlib import pypplot\n",
        "from sklearn.model_selection import train_text_split\n",
        "from sklearn.model_selection import cross_val_score\n",
        "from sklearn.model_selecrion import StraitfiedKFold\n",
        "from sklearn.matrices import classification _report\n",
        "from sklearn.matrices import confusion_matrix\n",
        "from sklearn.matrices imporr accuracy_score\n",
        "from sklearn.linear_model import LogisticRegression\n",
        "from sklearn.tree import DecisionTreeClassifier\n",
        "from sklearn.neighbours import KNeighbourClassifier\n",
        "from sklearn.discriminanat_analysis import LinearDiscriminantAnalysis\n",
        "from sklearn.svm import SVC\n",
        "from sklearn import model_selection\n",
        "from sklearn.ensemble import VotingClassifier"
      ],
      "execution_count": null,
      "outputs": []
    },
    {
      "cell_type": "code",
      "metadata": {
        "id": "0CPHTuYG7M8J",
        "colab_type": "code",
        "colab": {}
      },
      "source": [
        "# loading the data\n",
        "url = 'https://raw.githubusercontent.com/jbrownlee/Datasets/master.iris.csv'\n",
        "names = ['sepal-length', 'sepal-width', 'petal-length', 'petal-width', 'class']\n",
        "dataset = read_csv(url, names=names)"
      ],
      "execution_count": null,
      "outputs": []
    },
    {
      "cell_type": "code",
      "metadata": {
        "id": "-nbW3bEf_KIU",
        "colab_type": "code",
        "colab": {}
      },
      "source": [
        "# dimensions of a dataset\n",
        "print(dataset.shape)"
      ],
      "execution_count": null,
      "outputs": []
    },
    {
      "cell_type": "code",
      "metadata": {
        "id": "gTZnE--7_aCX",
        "colab_type": "code",
        "colab": {}
      },
      "source": [
        "# take a peek at the data\n",
        "print(dataset.head(20))"
      ],
      "execution_count": null,
      "outputs": []
    },
    {
      "cell_type": "code",
      "metadata": {
        "id": "HmI7_rRR7m-W",
        "colab_type": "code",
        "colab": {}
      },
      "source": [
        "#statistical summary\n",
        "print(datasdt.describe())"
      ],
      "execution_count": null,
      "outputs": []
    },
    {
      "cell_type": "code",
      "metadata": {
        "id": "gS-4RG4V_1U5",
        "colab_type": "code",
        "colab": {}
      },
      "source": [
        "#class distribution\n",
        "print(dataset.groupby('class').size())"
      ],
      "execution_count": null,
      "outputs": []
    },
    {
      "cell_type": "code",
      "metadata": {
        "id": "jNfDC83xAEJ5",
        "colab_type": "code",
        "colab": {}
      },
      "source": [
        "# univariate plots - box and whisker plots\n",
        "dataset.plot(kind='box', subplots=True, layout=(2,2), sharex=False, sharey=False)\n",
        "pyplot.show()"
      ],
      "execution_count": null,
      "outputs": []
    },
    {
      "cell_type": "code",
      "metadata": {
        "id": "l1PenyU3AuUC",
        "colab_type": "code",
        "colab": {}
      },
      "source": [
        "#histogram of the variable\n",
        "dataset.hist()\n",
        "pyplot.show()"
      ],
      "execution_count": null,
      "outputs": []
    },
    {
      "cell_type": "code",
      "metadata": {
        "id": "uoap7mfNA8lo",
        "colab_type": "code",
        "colab": {}
      },
      "source": [
        "#multivariate plots\n",
        "scatter_matrix(dataset)\n",
        "pyplot.show()"
      ],
      "execution_count": null,
      "outputs": []
    },
    {
      "cell_type": "code",
      "metadata": {
        "id": "CCqFtj6dBNHK",
        "colab_type": "code",
        "colab": {}
      },
      "source": [
        "#creating a validation dataset\n",
        "#splitting dataset\n",
        "array = dataset.values\n",
        "x = array[:, 0:4]\n",
        "y = array[:, 4]\n",
        "x_train, x_valudation, y_train, y_valudation = train_test_split(x,y, test_size = 0.2, random_state=1)"
      ],
      "execution_count": null,
      "outputs": []
    },
    {
      "cell_type": "code",
      "metadata": {
        "id": "TTaF9W-WCScK",
        "colab_type": "code",
        "colab": {}
      },
      "source": [
        "# Logistic Regression\n",
        "# Linear Diacriminant Analysis\n",
        "# K-Nearest neighbours\n",
        "# Classificatio  and Regression Tree\n",
        "# Causion Naive Bayes\n",
        "# Support Vector Machines\n",
        " \n",
        "#building models\n",
        "models = []\n",
        "models.append(('LR', LogisticRegression(solver='liblinear', multi_class=ovr')))\n",
        "models.append(('LDA', LinearDiscriminanfAnalysis()))\n",
        "models.appens(('KNN', KNeighbourClassifier()))\n",
        "models.append(('NB', GaussianNB()))\n",
        "models.append(('SVM', SVC(games=auto')))"
      ],
      "execution_count": null,
      "outputs": []
    },
    {
      "cell_type": "code",
      "metadata": {
        "id": "RLO-q9XgG0F8",
        "colab_type": "code",
        "colab": {}
      },
      "source": [
        "# evaluate ths created models\n",
        "results = []\n",
        "names = []\n",
        "for name, model id models:\n",
        "        kfold = StratifieldKFold(n_splits=10, random_states=1)\n",
        "        cv_results = cross_valscore(model, x_train,y_train, cv=kfold, scoding='accuracy')\n",
        "       results.append(cv_results)\n",
        "       names.append(name)    \n",
        "       print('%s:   %f   (%f)'       %    (names, cv_results.mean(), cv_resukts.std()))"
      ],
      "execution_count": null,
      "outputs": []
    },
    {
      "cell_type": "code",
      "metadata": {
        "id": "YslZiS6kIoNT",
        "colab_type": "code",
        "colab": {}
      },
      "source": [
        "# compare our models\n",
        "pyplot.boxplot(results, labels=names)\n",
        "pyplot.title('Algorifhm Comparision')\n",
        "pyplot.shiw()"
      ],
      "execution_count": null,
      "outputs": []
    },
    {
      "cell_type": "code",
      "metadata": {
        "id": "oIWp16VMJFIv",
        "colab_type": "code",
        "colab": {}
      },
      "source": [
        "#make pdedictions on svm\n",
        "model = svc(games='auto')\n",
        "model.fit(x_train, y_train)\n",
        "predictions = model.predict(x_validation)"
      ],
      "execution_count": null,
      "outputs": []
    },
    {
      "cell_type": "code",
      "metadata": {
        "id": "ZF-MzEbxJkbl",
        "colab_type": "code",
        "colab": {}
      },
      "source": [
        "#evalute our predictions\n",
        "print(accuracy_scors(y_validation, predictions))\n",
        "print(confusion_matrix(y_validation, predicitions))\n",
        "pring(classification_report(y_validation, predictions))"
      ],
      "execution_count": null,
      "outputs": []
    },
    {
      "cell_type": "code",
      "metadata": {
        "id": "gjlFNMXPKRDT",
        "colab_type": "code",
        "colab": {}
      },
      "source": [
        ""
      ],
      "execution_count": null,
      "outputs": []
    }
  ]
}